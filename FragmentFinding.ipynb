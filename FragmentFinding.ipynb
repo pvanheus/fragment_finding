{
 "metadata": {
  "name": "",
  "signature": "sha256:adb796bb22670ee0fe683d00945394d8ad1c74119fcdc468ef444e8f08b771cf"
 },
 "nbformat": 3,
 "nbformat_minor": 0,
 "worksheets": [
  {
   "cells": [
    {
     "cell_type": "code",
     "collapsed": false,
     "input": [
      "class Interval(object):\n",
      "    contig_id = start = end = strand = feature_id = None\n",
      "    \n",
      "    def __repr__(self):\n",
      "        return 'Interval<contig={}, {}, {}, {}, ID={}>'.format(self.contig_id,\n",
      "                                                               self.start, self.end, self.strand,\n",
      "                                                               self.feature_id)\n",
      "\n",
      "def parse_gff_attributes(attr_string):\n",
      "    attributes = dict()\n",
      "    attrs = attr_string.split(';')\n",
      "    for attr in attrs:\n",
      "        attr = attr.strip()\n",
      "        if attr == '':\n",
      "            continue\n",
      "        (key, value) = attr.split('=')\n",
      "        attributes[key] = value\n",
      "    return attributes\n",
      "\n",
      "def parse_gff_interval(infile):\n",
      "    count = 0\n",
      "    for line in infile:\n",
      "        count += 1\n",
      "        if line.startswith('#'):\n",
      "            continue\n",
      "        fields = line.split('\\t')\n",
      "        assert len(fields) == 9, \"Invalid GFF3 format at line {}:\\n{}\".format(count, line)\n",
      "        contig_id = fields[0]\n",
      "        start = int(fields[3])\n",
      "        end = int(fields[4])\n",
      "        strand = fields[6]\n",
      "        attribute_string = fields[8]\n",
      "        attributes = parse_gff_attributes(attribute_string)\n",
      "        assert 'ID' in attributes, \"Invalid GFF3 format, missing ID, on line {}:\\n{}\".format(count, line)\n",
      "        interval = Interval()\n",
      "        interval.contig_id = contig_id\n",
      "        interval.start = start\n",
      "        interval.end = end\n",
      "        interval.strand = strand\n",
      "        interval.feature_id = attributes['ID']\n",
      "        yield interval"
     ],
     "language": "python",
     "metadata": {},
     "outputs": [],
     "prompt_number": 18
    },
    {
     "cell_type": "code",
     "collapsed": false,
     "input": [
      "import sys\n",
      "from bx.intervals.intersection import IntervalTree\n",
      "\n",
      "# use of interval trees taken from this example:\n",
      "# http://informatics.malariagen.net/2011/07/07/using-interval-trees-to-query-genome-annotations-by-position/\n",
      "\n",
      "gene_trees = dict()\n",
      "genes = dict()\n",
      "gene_filename = 'scaffold_63_genes.gff3'\n",
      "try:\n",
      "    input_file = open(gene_filename)\n",
      "except IOError as e:\n",
      "    print >>sys.stderr, \"Failed to open file {}: {}\\n\".format(gene_filename, e.strerror)\n",
      "else:\n",
      "    for interval in parse_gff_interval(input_file):\n",
      "        genes[interval.feature_id] = interval\n",
      "        contig_tree = gene_trees.setdefault(interval.contig_id, dict())\n",
      "        strand_tree = contig_tree.setdefault(interval.strand, IntervalTree())\n",
      "        strand_tree.add(interval.start, interval.end, interval)\n",
      "        gene_trees[interval.contig_id][interval.strand] = strand_tree\n",
      "\n",
      "fragment_set = set()\n",
      "protein_filename = 'scaffold_63_proteins.gff3'\n",
      "try:\n",
      "    input_file = open(protein_filename)\n",
      "except IOError as e:\n",
      "    print >>sys.stderr, \"Failed to open file {}: {}\\n\".format(protein_filename, e.strerror)\n",
      "else:\n",
      "    for interval in parse_gff_interval(input_file):\n",
      "        genes = gene_trees[interval.contig_id][interval.strand].find(interval.start, interval.end)\n",
      "        if len(genes) > 1:\n",
      "            fragment_set.add(tuple([gene.feature_id for gene in genes]))\n",
      "\n",
      "count = 0\n",
      "for fragment_tuple in fragment_set:\n",
      "    count += len(fragment_tuple)\n",
      "print count\n"
     ],
     "language": "python",
     "metadata": {},
     "outputs": [
      {
       "output_type": "stream",
       "stream": "stdout",
       "text": [
        "65\n"
       ]
      }
     ],
     "prompt_number": 26
    },
    {
     "cell_type": "code",
     "collapsed": false,
     "input": [],
     "language": "python",
     "metadata": {},
     "outputs": []
    }
   ],
   "metadata": {}
  }
 ]
}